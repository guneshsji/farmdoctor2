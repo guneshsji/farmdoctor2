{
  "nbformat": 4,
  "nbformat_minor": 0,
  "metadata": {
    "accelerator": "GPU",
    "colab": {
      "name": "Copy_of_plantdiseaserecognition.ipynb",
      "provenance": [],
      "collapsed_sections": [
        "wSNhHQ-Jn3eh"
      ]
    },
    "kernelspec": {
      "display_name": "Python 3",
      "name": "python3"
    }
  },
  "cells": [
    {
      "cell_type": "code",
      "metadata": {
        "id": "bSOHoLAWAkoF"
      },
      "source": [
        "from google.colab import drive\n",
        "drive.mount('/content/drive')"
      ],
      "execution_count": null,
      "outputs": []
    },
    {
      "cell_type": "code",
      "metadata": {
        "id": "T11krmCSAzMe"
      },
      "source": [
        "!ls"
      ],
      "execution_count": null,
      "outputs": []
    },
    {
      "cell_type": "code",
      "metadata": {
        "id": "2imBe7MACSnI"
      },
      "source": [
        "cd '/content/drive/My Drive/PLANT DISEASE RECOGNITION'"
      ],
      "execution_count": null,
      "outputs": []
    },
    {
      "cell_type": "code",
      "metadata": {
        "id": "B74B3XX-F96t"
      },
      "source": [
        "!mkdir config datasets models"
      ],
      "execution_count": null,
      "outputs": []
    },
    {
      "cell_type": "code",
      "metadata": {
        "id": "60DDTIWdMAsP"
      },
      "source": [
        "cd config"
      ],
      "execution_count": null,
      "outputs": []
    },
    {
      "cell_type": "code",
      "metadata": {
        "id": "qa6xXyFWMLLC"
      },
      "source": [
        "# from google.colab import files\n",
        "# files.upload()"
      ],
      "execution_count": null,
      "outputs": []
    },
    {
      "cell_type": "code",
      "metadata": {
        "id": "9vOOLxihBTR6"
      },
      "source": [
        "import os\n",
        "os.environ['KAGGLE_CONFIG_DIR'] = \"/content/drive/My Drive/PLANT DISEASE RECOGNITION/config\""
      ],
      "execution_count": null,
      "outputs": []
    },
    {
      "cell_type": "code",
      "metadata": {
        "id": "VIIIP6e_09Hd"
      },
      "source": [
        "!ls"
      ],
      "execution_count": null,
      "outputs": []
    },
    {
      "cell_type": "code",
      "metadata": {
        "id": "yTfUxFrQBC8j"
      },
      "source": [
        "cd '/content/drive/My Drive/PLANT DISEASE RECOGNITION/datasets'"
      ],
      "execution_count": null,
      "outputs": []
    },
    {
      "cell_type": "code",
      "metadata": {
        "id": "LP1vnWIEBkuG"
      },
      "source": [
        "!kaggle datasets download -d vipoooool/new-plant-diseases-dataset"
      ],
      "execution_count": null,
      "outputs": []
    },
    {
      "cell_type": "code",
      "metadata": {
        "id": "z6bh6S5oCEhL"
      },
      "source": [
        "!ls"
      ],
      "execution_count": null,
      "outputs": []
    },
    {
      "cell_type": "code",
      "metadata": {
        "id": "5-pp_L_4a64M"
      },
      "source": [
        "# check the dataset folder size\n",
        "!du -hs 'New Plant Diseases Dataset(Augmented)'"
      ],
      "execution_count": null,
      "outputs": []
    },
    {
      "cell_type": "code",
      "metadata": {
        "id": "1lz7pL8wkA-Z"
      },
      "source": [
        "ls"
      ],
      "execution_count": null,
      "outputs": []
    },
    {
      "cell_type": "code",
      "metadata": {
        "id": "GgIXV-zbj7SL"
      },
      "source": [
        "# !du -hs 'new plant diseases dataset(augmented)'"
      ],
      "execution_count": null,
      "outputs": []
    },
    {
      "cell_type": "code",
      "metadata": {
        "id": "j3pRQlXVk0SQ"
      },
      "source": [
        "# !du -hs 'test'"
      ],
      "execution_count": null,
      "outputs": []
    },
    {
      "cell_type": "code",
      "metadata": {
        "id": "WdJ6GyI-XJA2"
      },
      "source": [
        "# !unzip -nqq \"/content/drive/My Drive/PLANT DISEASE RECOGNITION/datasets/new-plant-diseases-dataset.zip\" -d \"/content/drive/My Drive/PLANT DISEASE RECOGNITION/datasets\""
      ],
      "execution_count": null,
      "outputs": []
    },
    {
      "cell_type": "code",
      "metadata": {
        "id": "AnSQi65pC4CA"
      },
      "source": [
        "#Unzipping the zip files to extract the dataset folder and deleting the zip files\n",
        "# !unzip \\*.zip  && rm *.zip"
      ],
      "execution_count": null,
      "outputs": []
    },
    {
      "cell_type": "code",
      "metadata": {
        "id": "jRn8xhh2TcxX"
      },
      "source": [
        "# !rm -rf New\\ Plant\\ Diseases\\ Dataset\\(Augmented\\)"
      ],
      "execution_count": null,
      "outputs": []
    },
    {
      "cell_type": "code",
      "metadata": {
        "id": "XwSzaqHtTgip"
      },
      "source": [
        "!pwd"
      ],
      "execution_count": null,
      "outputs": []
    },
    {
      "cell_type": "code",
      "metadata": {
        "id": "85spvsB0Tk-e"
      },
      "source": [
        "# for (root,dirs,files) in os.walk('.', topdown = True):\n",
        "#   print(root, dirs)"
      ],
      "execution_count": null,
      "outputs": []
    },
    {
      "cell_type": "code",
      "metadata": {
        "id": "J3slYXDbDA-q"
      },
      "source": [
        "# for (root,dirs,files) in os.walk('.', topdown = True):\n",
        "#   print(root, dirs)"
      ],
      "execution_count": null,
      "outputs": []
    },
    {
      "cell_type": "code",
      "metadata": {
        "id": "gFvzA7q-LhZi"
      },
      "source": [
        "import os\n",
        "base_dir = './New Plant Diseases Dataset(Augmented)/New Plant Diseases Dataset(Augmented)'\n",
        "os.listdir(base_dir)"
      ],
      "execution_count": null,
      "outputs": []
    },
    {
      "cell_type": "code",
      "metadata": {
        "id": "AXZGUGCQMdnq"
      },
      "source": [
        "len(os.listdir(os.path.join(base_dir, 'train')))"
      ],
      "execution_count": null,
      "outputs": []
    },
    {
      "cell_type": "markdown",
      "metadata": {
        "id": "PsCR0PlpNE50"
      },
      "source": [
        "## Importing the required libraries"
      ]
    },
    {
      "cell_type": "code",
      "metadata": {
        "id": "P3pAq8CWMi1V"
      },
      "source": [
        "import numpy as np\n",
        "import pandas as pd\n",
        "import matplotlib.pyplot as plt\n",
        "import cv2\n",
        "import PIL\n",
        "import tensorflow as tf\n",
        "from tensorflow.python import keras\n",
        "import warnings \n",
        "import argparse\n",
        "warnings.filterwarnings('ignore')\n",
        "from tensorflow.python.keras.preprocessing.image import ImageDataGenerator, img_to_array, load_img\n",
        "from sklearn.preprocessing import LabelBinarizer, StandardScaler\n",
        "from sklearn.model_selection import train_test_split\n",
        "from tensorflow.keras.utils import to_categorical"
      ],
      "execution_count": null,
      "outputs": []
    },
    {
      "cell_type": "code",
      "metadata": {
        "id": "pwfIF4CSNpsq"
      },
      "source": [
        "fig,axes = plt.subplots(1,5, figsize=(18,18))\n",
        "images = os.listdir(os.path.join(base_dir, 'train/Apple___Black_rot'))\n",
        "for _ in range(5):\n",
        "  ax = axes[_]\n",
        "  image_path = base_dir+'/train/Apple___Black_rot/'+images[_]\n",
        "  img = cv2.cvtColor(cv2.imread(image_path), cv2.COLOR_BGR2RGB)\n",
        "  ax.imshow(img)\n",
        "  ax.axis('off')\n",
        "plt.show()"
      ],
      "execution_count": null,
      "outputs": []
    },
    {
      "cell_type": "markdown",
      "metadata": {
        "id": "zZVj7jcvQshf"
      },
      "source": [
        "## Data Augmentation transformations for the train dataset"
      ]
    },
    {
      "cell_type": "code",
      "metadata": {
        "id": "DyBeg-GKQry3"
      },
      "source": [
        "train_datagen = ImageDataGenerator(rescale=1./255,\n",
        "                                   shear_range=0.2,\n",
        "                                   zoom_range=0.2,\n",
        "                                   width_shift_range=0.2,\n",
        "                                   height_shift_range=0.2,\n",
        "                                   fill_mode='nearest')\n",
        "\n",
        "# Data augmentation for validation dataset\n",
        "validation_datagen = ImageDataGenerator(rescale = 1./255)"
      ],
      "execution_count": null,
      "outputs": []
    },
    {
      "cell_type": "markdown",
      "metadata": {
        "id": "Wwu39ZISRk8S"
      },
      "source": [
        "## Loading the images from their directories"
      ]
    },
    {
      "cell_type": "code",
      "metadata": {
        "id": "_ig-_XBVRJ29"
      },
      "source": [
        "\n",
        "BATCH_SIZE = 32\n",
        "\n",
        "train_set_from_dir = train_datagen.flow_from_directory(os.path.join(base_dir, 'train'),\n",
        "                                                       target_size = (224,224),\n",
        "                                                       batch_size = BATCH_SIZE,\n",
        "                                                       class_mode = 'categorical'\n",
        "                                                       )\n",
        "\n",
        "validation_set_from_dir = validation_datagen.flow_from_directory(os.path.join(base_dir, 'valid'),\n",
        "                                                                 target_size = (224,224),\n",
        "                                                                 batch_size = BATCH_SIZE,\n",
        "                                                                 class_mode = 'categorical'\n",
        ")"
      ],
      "execution_count": null,
      "outputs": []
    },
    {
      "cell_type": "code",
      "metadata": {
        "id": "dej0QnJoeUvz"
      },
      "source": [
        "TRAIN_SIZE = train_set_from_dir.n\n",
        "VALID_SIZE = validation_set_from_dir.n"
      ],
      "execution_count": null,
      "outputs": []
    },
    {
      "cell_type": "code",
      "metadata": {
        "id": "J1Y3g2EdXdCY"
      },
      "source": [
        "classes_dict = train_set_from_dir.class_indices"
      ],
      "execution_count": null,
      "outputs": []
    },
    {
      "cell_type": "code",
      "metadata": {
        "id": "1QYOagkku-bO"
      },
      "source": [
        "img = train_set_from_dir.filepaths[np.random.random_integers(low=0, high=train_set_from_dir.samples)]\n",
        "img = cv2.imread(img)\n",
        "plt.imshow(img)"
      ],
      "execution_count": null,
      "outputs": []
    },
    {
      "cell_type": "code",
      "metadata": {
        "id": "30EDXcNNlt7y"
      },
      "source": [
        "import json\n",
        "# with open('/content/drive/My Drive/PLANT DISEASE RECOGNITION/class_indices.json','w') as f:\n",
        "  # json.dump(classes_dict, f)"
      ],
      "execution_count": null,
      "outputs": []
    },
    {
      "cell_type": "markdown",
      "metadata": {
        "id": "CHqO0t5Dojr8"
      },
      "source": [
        "## Building a simple CNN Architecture\n",
        "\n",
        "REFERENCES :- https://heartbeat.fritz.ai/regularization-techniques-for-image-processing-using-tensorflow-56c5b365bc17"
      ]
    },
    {
      "cell_type": "code",
      "metadata": {
        "id": "_uJhGfdaoi5X"
      },
      "source": [
        "from keras.models import Sequential\n",
        "from keras.layers import Conv2D, MaxPooling2D, Flatten, Dense, Dropout\n",
        "from keras.regularizers import L1L2\n",
        "from keras.layers.normalization import BatchNormalization\n",
        "from keras.optimizers import Adam\n",
        "from keras.callbacks import EarlyStopping, ModelCheckpoint, ReduceLROnPlateau"
      ],
      "execution_count": null,
      "outputs": []
    },
    {
      "cell_type": "code",
      "metadata": {
        "id": "Q_2KgyifrGZy"
      },
      "source": [
        "model = Sequential()\n",
        "# Convolutional 1st layer\n",
        "model.add(Conv2D(32, kernel_size = (7,7), activation='relu', input_shape=(224,224,3)))\n",
        "model.add(BatchNormalization())\n",
        "model.add(MaxPooling2D(pool_size=(2,2)))\n",
        "\n",
        "# Convolutional 2nd layer\n",
        "model.add(Conv2D(64, kernel_size = (5,5), activation='relu', padding='same'))\n",
        "model.add(BatchNormalization())\n",
        "model.add(MaxPooling2D(pool_size = (2,2)))\n",
        "model.add(Dropout(0.2))\n",
        "\n",
        "# Convolutional 3rd layer\n",
        "model.add(Conv2D(128, kernel_size=(3,3), activation = 'relu', padding='same'))\n",
        "model.add(BatchNormalization())\n",
        "model.add(MaxPooling2D(pool_size= (2,2)))\n",
        "model.add(Dropout(0.2))\n",
        "\n",
        "# Convolutional 4th layer\n",
        "model.add(Conv2D(128, kernel_size=(3,3), activation= 'relu', padding='same'))\n",
        "model.add(MaxPooling2D(pool_size = (2,2)))\n",
        "model.add(Dropout(0.2))\n",
        "\n",
        "# Fully connected 1st layer\n",
        "model.add(Flatten())\n",
        "model.add(Dense(1024, activation='relu'))\n",
        "model.add(Dropout(0.2))\n",
        "\n",
        "# Fully connected 2nd layer\n",
        "model.add(Dense(1600, activation='relu'))\n",
        "model.add(Dropout(0.2))\n",
        "\n",
        "# Fully connected 3rd layer\n",
        "model.add(Dense(1500, activation='relu'))\n",
        "model.add(Dropout(0.2))\n",
        "\n",
        "# Fully connected semi-final layer\n",
        "model.add(Dense(300, activation='relu'))\n",
        "model.add(Dropout(0.2))\n",
        "\n",
        "# Fully connected final layer (for 38 distinct categories hence 38 neurons)\n",
        "model.add(Dense(38, activation = 'softmax'))"
      ],
      "execution_count": null,
      "outputs": []
    },
    {
      "cell_type": "code",
      "metadata": {
        "id": "NAv-oy6J5HIs"
      },
      "source": [
        "INIT_LR = 3e-4\n",
        "model.compile(optimizer = Adam(learning_rate = INIT_LR),\n",
        "              loss = 'categorical_crossentropy',\n",
        "              metrics = ['accuracy']\n",
        ")"
      ],
      "execution_count": null,
      "outputs": []
    },
    {
      "cell_type": "code",
      "metadata": {
        "id": "Cm-yxT4R5c6I"
      },
      "source": [
        "model.summary()"
      ],
      "execution_count": null,
      "outputs": []
    },
    {
      "cell_type": "code",
      "metadata": {
        "id": "7xmx4Rfh5gNg"
      },
      "source": [
        "## Setting up callbacks for our model\n",
        "\n",
        "callbacks = [\n",
        "           ModelCheckpoint('/content/drive/My Drive/PLANT DISEASE RECOGNITION/checkpoints/cnnmodel_plantdiseases.h5', save_best_only=True, monitor='val_accuracy'),\n",
        "           EarlyStopping(monitor='val_loss', patience=10, verbose=1),\n",
        "           ReduceLROnPlateau(factor=0.1, patience=10, min_lr=0.00001, verbose=1) \n",
        "]"
      ],
      "execution_count": null,
      "outputs": []
    },
    {
      "cell_type": "code",
      "metadata": {
        "id": "W2u-kxxq7DGO"
      },
      "source": [
        "N_EPOCHS = 16\n",
        "\n",
        "history = model.fit(train_set_from_dir,\n",
        "          validation_data = validation_set_from_dir,\n",
        "          epochs = N_EPOCHS,\n",
        "          # # Use 128 random batches for training set \n",
        "          steps_per_epoch = 128, # 150 x 32 =  random samples\n",
        "          # # Use 64 random batches for training validation set\n",
        "          validation_steps = 64, # 100 x 32 = 3200 random samples \n",
        "          callbacks = callbacks\n",
        "          )"
      ],
      "execution_count": null,
      "outputs": []
    },
    {
      "cell_type": "markdown",
      "metadata": {
        "id": "Oojov5P95arw"
      },
      "source": [
        "### Transfer learning with MobileNet architecture"
      ]
    },
    {
      "cell_type": "code",
      "metadata": {
        "id": "PZv0TtYO5emx"
      },
      "source": [
        "# Importing the required libraries for modelling \n",
        "from keras import Input, Model\n",
        "from keras.applications import MobileNet\n",
        "from keras.layers.core import Flatten, Dense,Dropout\n",
        "from keras.layers import GlobalAveragePooling2D\n",
        "from keras.layers.normalization import BatchNormalization\n",
        "from keras.callbacks import EarlyStopping, ModelCheckpoint, ReduceLROnPlateau\n",
        "from keras.models import Model, model_from_json\n",
        "from keras.optimizers import Adam\n",
        "from sklearn.metrics import classification_report, roc_auc_score"
      ],
      "execution_count": null,
      "outputs": []
    },
    {
      "cell_type": "code",
      "metadata": {
        "id": "y8Gh1cNW5tgS"
      },
      "source": [
        "base_model = MobileNet(\n",
        "    #Load weights into the pre-trained MobileNet model\n",
        "    weights=\"imagenet\",\n",
        "    input_shape=(224, 224, 3),\n",
        "    #Exclude the ImageNet classifier at the top of the model\n",
        "    include_top=False\n",
        ")  "
      ],
      "execution_count": null,
      "outputs": []
    },
    {
      "cell_type": "code",
      "metadata": {
        "id": "qR-6YLLh6EPQ"
      },
      "source": [
        "base_model.summary()"
      ],
      "execution_count": null,
      "outputs": []
    },
    {
      "cell_type": "code",
      "metadata": {
        "id": "sID1QSfq6VSo"
      },
      "source": [
        "head_model = base_model.output\n",
        "head_model = GlobalAveragePooling2D()(head_model)\n",
        "# Regularization by applying DropOut\n",
        "head_model = Dropout(0.2)(head_model)\n",
        "outputs = Dense(38, activation=\"softmax\")(head_model)\n",
        "mobilenet_model = Model(base_model.input, outputs, name='pretrained_mobilenet' )\n",
        "\n",
        "for layer in mobilenet_model.layers:\n",
        "    layer.trainable = False\n",
        "\n",
        "# or if we want to set the first 20 layers of the network to be non-trainable\n",
        "for layer in model.layers[:20]:\n",
        "    layer.trainable=False\n",
        "for layer in model.layers[20:]:\n",
        "    layer.trainable=True"
      ],
      "execution_count": null,
      "outputs": []
    },
    {
      "cell_type": "code",
      "metadata": {
        "id": "zR1DsMOR-tOE"
      },
      "source": [
        "# Compiling the model with the optimizer and loss function \n",
        "\n",
        "mobilenet_model.compile(optimizer = Adam(),\n",
        "              loss = 'categorical_crossentropy',\n",
        "              metrics = ['accuracy']\n",
        ")"
      ],
      "execution_count": null,
      "outputs": []
    },
    {
      "cell_type": "code",
      "metadata": {
        "id": "UFZqZ5eJxo7M"
      },
      "source": [
        "mobilenet_model.summary()\n",
        "for idx, layer in enumerate(mobilenet_model.layers):\n",
        "    print(idx, layer.name, layer.trainable)"
      ],
      "execution_count": null,
      "outputs": []
    },
    {
      "cell_type": "code",
      "metadata": {
        "id": "3b8QJ-Vx-5Yx"
      },
      "source": [
        "## Setting up callbacks for our model\n",
        "\n",
        "callbacks = [\n",
        "           ModelCheckpoint('content/drive/My Drive/PLANT DISEASE RECOGNITION/checkpoints/mobilenet_plantdiseases.h5', save_best_only=True, monitor='val_acc'),\n",
        "           EarlyStopping(monitor='val_loss', patience=2, verbose=1),\n",
        "           ReduceLROnPlateau(factor=0.1, patience=10, min_lr=0.00001, verbose=1) \n",
        "]"
      ],
      "execution_count": null,
      "outputs": []
    },
    {
      "cell_type": "code",
      "metadata": {
        "id": "Gpts-714-7W4"
      },
      "source": [
        "N_EPOCHS = 10\n",
        "\n",
        "history = mobilenet_model.fit(train_set_from_dir,\n",
        "          validation_data = validation_set_from_dir,\n",
        "          epochs = N_EPOCHS,\n",
        "          # Use 128 random batches for training set \n",
        "          steps_per_epoch = 128, # 128 x 32 = 2**12 random samples\n",
        "          # Use 64 random batches for training validation set\n",
        "          validation_steps = 100, # 100 x 32 = 3200 random samples \n",
        "          callbacks = callbacks\n",
        "          )"
      ],
      "execution_count": null,
      "outputs": []
    },
    {
      "cell_type": "code",
      "metadata": {
        "id": "r-Bflk46EEpU"
      },
      "source": [
        "n = 6\n",
        "plt.figure(figsize = (8,5))\n",
        "plt.plot(np.arange(1,n+1), history.history['loss'], label = 'train_loss')\n",
        "plt.plot(np.arange(1,n+1), history.history['val_loss'], label = 'val_loss')\n",
        "plt.plot(np.arange(1,n+1), history.history['accuracy'], label = 'train_accuracy')\n",
        "plt.plot(np.arange(1,n+1), history.history['val_accuracy'], label = 'val_accuracy')\n",
        "\n",
        "plt.grid(True)\n",
        "plt.legend(loc = \"best\")\n",
        "plt.savefig('/content/drive/My Drive/PLANT DISEASE RECOGNITION/performance.jpg')\n",
        "plt.show()"
      ],
      "execution_count": null,
      "outputs": []
    },
    {
      "cell_type": "code",
      "metadata": {
        "id": "PGRmYXUkEkZ9"
      },
      "source": [
        "# Evaluate the model on the Validation dataset\n",
        "results = mobilenet_model.evaluate(validation_set_from_dir)"
      ],
      "execution_count": null,
      "outputs": []
    },
    {
      "cell_type": "code",
      "metadata": {
        "id": "GeGOHiyFEsbV"
      },
      "source": [
        "print(\"Validation Loss :-\", results[0])\n",
        "print(\"=\"*30)\n",
        "print(\"Validation Accuracy :-\", results[1])"
      ],
      "execution_count": null,
      "outputs": []
    },
    {
      "cell_type": "code",
      "metadata": {
        "id": "K0_NoEAxR2Kb"
      },
      "source": [
        "cd '/content/drive/My Drive/PLANT DISEASE RECOGNITION'"
      ],
      "execution_count": null,
      "outputs": []
    },
    {
      "cell_type": "code",
      "metadata": {
        "id": "P3rIQVIGSAjK"
      },
      "source": [
        "mkdir models"
      ],
      "execution_count": null,
      "outputs": []
    },
    {
      "cell_type": "code",
      "metadata": {
        "id": "SyaUkeBfRbcG"
      },
      "source": [
        "# Save model in HDF5 format\n",
        "mobilenet_model.save('models/mobilenet_model.h5')"
      ],
      "execution_count": null,
      "outputs": []
    },
    {
      "cell_type": "code",
      "metadata": {
        "id": "m3q90pk8SeHO"
      },
      "source": [
        "# Testing on a random image from the test images directory\n",
        "from PIL import Image\n",
        "np.random.seed(200)\n",
        "idx = np.random.randint(30)\n",
        "test_images_dir = os.path.join('datasets/test', 'test')\n",
        "test1 = Image.open(os.path.join(test_images_dir, os.listdir(test_images_dir)[idx]))"
      ],
      "execution_count": null,
      "outputs": []
    },
    {
      "cell_type": "code",
      "metadata": {
        "id": "Gw4bOlT3ZzTj"
      },
      "source": [
        "plt.imshow(test1)\n",
        "plt.title(os.listdir(test_images_dir)[idx])"
      ],
      "execution_count": null,
      "outputs": []
    },
    {
      "cell_type": "code",
      "metadata": {
        "id": "X0MsoSyfZ6L6"
      },
      "source": [
        "test1 = test1.resize((224,224))\n",
        "test1_scaled = np.expand_dims(np.asarray(test1), axis = 0) / 255\n",
        "predictions = mobilenet_model.predict(test1_scaled)\n",
        "print(predictions)"
      ],
      "execution_count": null,
      "outputs": []
    },
    {
      "cell_type": "code",
      "metadata": {
        "id": "2nUNIECacpXK"
      },
      "source": [
        "classes_dict = train_set_from_dir.class_indices\n",
        "classes_dict = { v:k for (k,v) in classes_dict.items() }\n",
        "classes_dict[np.argmax(predictions)]"
      ],
      "execution_count": null,
      "outputs": []
    },
    {
      "cell_type": "code",
      "metadata": {
        "id": "rvorIGe8ojd2"
      },
      "source": [
        "from tensorflow.python.keras.models import load_model\n",
        "mobilenet_model = load_model('models/mobilenet_model.h5')"
      ],
      "execution_count": null,
      "outputs": []
    },
    {
      "cell_type": "code",
      "metadata": {
        "id": "iCO3MafxowaW"
      },
      "source": [
        "mobilenet_model.summary()"
      ],
      "execution_count": null,
      "outputs": []
    },
    {
      "cell_type": "code",
      "metadata": {
        "id": "N_HVJ7Ngo1ji"
      },
      "source": [
        "import tensorflow as tf\n",
        "converter = tf.lite.TFLiteConverter.from_keras_model(mobilenet_model)\n",
        "tflite_model = converter.convert()\n",
        "open(\"models/converted_model.tflite\", \"wb\").write(tflite_model)"
      ],
      "execution_count": null,
      "outputs": []
    },
    {
      "cell_type": "markdown",
      "metadata": {
        "id": "ifjlb1vqHM0h"
      },
      "source": [
        "#### Accurate !"
      ]
    },
    {
      "cell_type": "markdown",
      "metadata": {
        "id": "wSNhHQ-Jn3eh"
      },
      "source": [
        "# Converting model to Tensorflow js"
      ]
    },
    {
      "cell_type": "code",
      "metadata": {
        "id": "6Eu_Zr2UnUEG"
      },
      "source": [
        "!pip install tensorflowjs"
      ],
      "execution_count": null,
      "outputs": []
    },
    {
      "cell_type": "code",
      "metadata": {
        "id": "FfvhO1DEn8O9"
      },
      "source": [
        "!pwd"
      ],
      "execution_count": null,
      "outputs": []
    },
    {
      "cell_type": "code",
      "metadata": {
        "id": "a4gztCfEqbuS"
      },
      "source": [
        "!mkdir tensorflowjs-model"
      ],
      "execution_count": null,
      "outputs": []
    },
    {
      "cell_type": "code",
      "metadata": {
        "id": "RNUsch4FpBBh"
      },
      "source": [
        "!tensorflowjs_converter --input_format keras models/mobilenet_model.h5 tensorflowjs-model/"
      ],
      "execution_count": null,
      "outputs": []
    },
    {
      "cell_type": "code",
      "metadata": {
        "id": "Xow9T5EapQk-"
      },
      "source": [
        "!zip -r tensorflowjs-model.zip tensorflowjs-model"
      ],
      "execution_count": null,
      "outputs": []
    },
    {
      "cell_type": "markdown",
      "metadata": {
        "id": "Bev7HhgXIbyp"
      },
      "source": [
        "## And we are done !"
      ]
    },
    {
      "cell_type": "code",
      "metadata": {
        "id": "CWTN5x8erdAV"
      },
      "source": [
        ""
      ],
      "execution_count": null,
      "outputs": []
    }
  ]
}